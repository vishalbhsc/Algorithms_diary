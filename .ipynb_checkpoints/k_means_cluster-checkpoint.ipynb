{
 "cells": [
  {
   "cell_type": "code",
   "execution_count": 4,
   "metadata": {
    "scrolled": true
   },
   "outputs": [
    {
     "name": "stdout",
     "output_type": "stream",
     "text": [
      "{'0': 1, '1': 1, '2': 1, '3': 1, '4': 1, '5': 1, '6': 1, '7': 0, '8': 0, '9': 0, '10': 0, '11': 0, '12': 0, '13': 2, '14': 2, '15': 2, '16': 2, '17': 2, '18': 1}\n",
      "{'0': 1, '1': 1, '2': 1, '3': 1, '4': 1, '5': 1, '6': 1, '7': 0, '8': 0, '9': 0, '10': 0, '11': 0, '12': 0, '13': 2, '14': 2, '15': 2, '16': 2, '17': 2, '18': 1}\n",
      "{'0': 1, '1': 1, '2': 1, '3': 1, '4': 1, '5': 1, '6': 1, '7': 0, '8': 0, '9': 0, '10': 0, '11': 0, '12': 0, '13': 2, '14': 2, '15': 2, '16': 2, '17': 2, '18': 1}\n",
      "{'0': 1, '1': 1, '2': 1, '3': 1, '4': 1, '5': 1, '6': 1, '7': 0, '8': 0, '9': 0, '10': 0, '11': 0, '12': 0, '13': 2, '14': 2, '15': 2, '16': 2, '17': 2, '18': 1}\n",
      "{'0': 1, '1': 1, '2': 1, '3': 1, '4': 1, '5': 1, '6': 1, '7': 0, '8': 0, '9': 0, '10': 0, '11': 0, '12': 0, '13': 2, '14': 2, '15': 2, '16': 2, '17': 2, '18': 1}\n",
      "{'0': 1, '1': 1, '2': 1, '3': 1, '4': 1, '5': 1, '6': 1, '7': 0, '8': 0, '9': 0, '10': 0, '11': 0, '12': 0, '13': 2, '14': 2, '15': 2, '16': 2, '17': 2, '18': 1}\n",
      "{'0': 1, '1': 1, '2': 1, '3': 1, '4': 1, '5': 1, '6': 1, '7': 0, '8': 0, '9': 0, '10': 0, '11': 0, '12': 0, '13': 2, '14': 2, '15': 2, '16': 2, '17': 2, '18': 1}\n",
      "{'0': 1, '1': 1, '2': 1, '3': 1, '4': 1, '5': 1, '6': 1, '7': 0, '8': 0, '9': 0, '10': 0, '11': 0, '12': 0, '13': 2, '14': 2, '15': 2, '16': 2, '17': 2, '18': 1}\n",
      "{'0': 1, '1': 1, '2': 1, '3': 1, '4': 1, '5': 1, '6': 1, '7': 0, '8': 0, '9': 0, '10': 0, '11': 0, '12': 0, '13': 2, '14': 2, '15': 2, '16': 2, '17': 2, '18': 1}\n",
      "{'0': 1, '1': 1, '2': 1, '3': 1, '4': 1, '5': 1, '6': 1, '7': 0, '8': 0, '9': 0, '10': 0, '11': 0, '12': 0, '13': 2, '14': 2, '15': 2, '16': 2, '17': 2, '18': 1}\n"
     ]
    },
    {
     "data": {
      "text/plain": [
       "{'0': 1,\n",
       " '1': 1,\n",
       " '2': 1,\n",
       " '3': 1,\n",
       " '4': 1,\n",
       " '5': 1,\n",
       " '6': 1,\n",
       " '7': 0,\n",
       " '8': 0,\n",
       " '9': 0,\n",
       " '10': 0,\n",
       " '11': 0,\n",
       " '12': 0,\n",
       " '13': 2,\n",
       " '14': 2,\n",
       " '15': 2,\n",
       " '16': 2,\n",
       " '17': 2,\n",
       " '18': 1}"
      ]
     },
     "execution_count": 4,
     "metadata": {},
     "output_type": "execute_result"
    },
    {
     "data": {
      "image/png": "[encoded data removed]",
      "text/plain": [
       "<Figure size 432x288 with 1 Axes>"
      ]
     },
     "metadata": {
      "needs_background": "light"
     },
     "output_type": "display_data"
    }
   ],
   "source": [
    "import random\n",
    "import matplotlib.pyplot as plt\n",
    "import math\n",
    "def EuclideanDistance(x1, y1,x2,y2): #x2,y2==means    \n",
    "                                    #euclidean distance between pint1 and point2    \n",
    "    S = math.sqrt(math.pow(x1-x2, 2)+math.pow(y1-y2, 2)) \n",
    "    return S \n",
    "\n",
    "\n",
    "\n",
    "def max_min(item):      #to find the max and min value in a list\n",
    "  items=list(item)\n",
    "  items.sort()\n",
    "  return(items[0],items[len(items)-1])\n",
    "\n",
    "\n",
    "def min_distance_index(gfg_list):\n",
    "    min_ele=(gfg_list[0])\n",
    "    posn=0 \n",
    "    for i in range(1,len(gfg_list)): \n",
    "            if gfg_list[i] < min_ele: \n",
    "            \tmin_ele=gfg_list[i]\n",
    "            \tposn=i \n",
    "              \n",
    "    return posn\n",
    "\n",
    "\n",
    "def initialize_mean(k,cMin,cMax):        #initialize k means between max_c, min_c\n",
    "    mean= [None]*k\n",
    "    for i in range (k):\n",
    "      mean[i]=(random.uniform(cMin+1, cMax-1))\n",
    "  \n",
    "    return mean\n",
    "\n",
    "def update_mean(dict_for_label,list_x,list_y,k):  #function to update mean[i] as the average of the list_x/y\n",
    "                                                                        # with index k where dictionary with key k is labelled thhe grp no index\n",
    "  new_centroid_rho_list=[0]*k\n",
    "  no_of_element_rho=[0]*k\n",
    "  new_centroid_theta_list=[0]*k\n",
    "  no_of_element_theta=[0]*k\n",
    "  for i in range(k):\n",
    "    for key in dict_for_label:\n",
    "      if dict_for_label[key]==i:\n",
    "        new_centroid_rho_list[i] +=list_x[int(key)]\n",
    "        no_of_element_rho[i]+=1\n",
    "        new_centroid_theta_list[i] +=list_y[int(key)]\n",
    "        no_of_element_theta[i]+=1\n",
    "  for i in range(k):\n",
    "  \tnew_centroid_rho_list[i]=new_centroid_rho_list[i]/no_of_element_rho[i]\n",
    "  \tnew_centroid_theta_list[i]=new_centroid_theta_list[i]/no_of_element_theta[i]\n",
    "  return(new_centroid_rho_list,new_centroid_theta_list)\n",
    "\n",
    "\n",
    "def distance_from_mean(rho_list,theta_list,centroid_rho_list,centroid_theta_list,dict_for_points_label):\n",
    "\tdist=[None]*len(centroid_rho_list)\n",
    "\tfor i in range(len(rho_list)):\n",
    "\t      for j in range(len(centroid_rho_list)):\n",
    "\t        dist[j]= EuclideanDistance(rho_list[i],theta_list[i],centroid_rho_list[j],centroid_theta_list[j])\n",
    "\t      # print(dist)\n",
    "\t      grp_no=min_distance_index(dist)\n",
    "\t      # print(grp_no)\n",
    "\t      dict_for_points_label[str(i)]=grp_no\n",
    "\n",
    "\treturn(dict_for_points_label)\n",
    "\n",
    "def visualis_n(dicta):\n",
    "    dic_col=[None]*len(dicta)\n",
    "    for key in dicta:\n",
    "        if dicta[key]==0:\n",
    "            dic_col[int(key)]='r'\n",
    "        if dicta[key]==1:\n",
    "            dic_col[int(key)]='g'\n",
    "        if dicta[key]==2:\n",
    "            dic_col[int(key)]='b'   \n",
    "    return(dic_col)        \n",
    "\n",
    "\n",
    "def k_means_cluster(rho_list,theta_list,k,iteration=1000):   #k=20\n",
    "    min_rho,max_rho=max_min(rho_list)\n",
    "    min_theta,max_theta=max_min(theta_list)\n",
    "    centroid_rho_list=initialize_mean(k,min_rho,max_rho)\n",
    "    centroid_theta_list=initialize_mean(k,min_theta,max_theta)\n",
    "    dict_for_points_label={}\n",
    "\n",
    "\n",
    "    for i in range (len(rho_list)):\n",
    "          dict_for_points_label[str(i)]=0\n",
    "\n",
    "    for i in range(iteration):\n",
    "        dict_for_points_label=distance_from_mean(rho_list,theta_list,centroid_rho_list,centroid_theta_list,dict_for_points_label)\n",
    "        centroid_rho_list,centroid_theta_list =update_mean(dict_for_points_label,rho_list,theta_list,k)\n",
    "        print(dict_for_points_label)\n",
    "        colour=visualis_n(dict_for_points_label)\n",
    "        plt.scatter(rho_list, theta_list,c=colour)\n",
    "    return dict_for_points_label \n",
    "\n",
    "\n",
    "rho_list=(12.5, 20, 28, 18, 29, 33, 24, 45, 45, 52, 51, 52, 55, 53, 55, 61, 64, 69, 13)\n",
    "theta_list=(39, 36, 30, 52, 54, 46, 55, 59, 63, 70, 66, 63, 58, 23, 14, 8, 19, 7, 32)\n",
    "\n",
    "k_means_cluster(rho_list,theta_list,3,10)\n",
    "\n",
    "    "
   ]
  },
  {
   "cell_type": "code",
   "execution_count": null,
   "metadata": {},
   "outputs": [],
   "source": []
  }
 ],
 "metadata": {
  "kernelspec": {
   "display_name": "Python 3",
   "language": "python",
   "name": "python3"
  },
  "language_info": {
   "codemirror_mode": {
    "name": "ipython",
    "version": 3
   },
   "file_extension": ".py",
   "mimetype": "text/x-python",
   "name": "python",
   "nbconvert_exporter": "python",
   "pygments_lexer": "ipython3",
   "version": "3.7.6"
  }
 },
 "nbformat": 4,
 "nbformat_minor": 4
}
